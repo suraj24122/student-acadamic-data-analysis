{
 "cells": [
  {
   "cell_type": "code",
   "execution_count": 6,
   "id": "f4c1d6bc-a099-43db-8afc-f296c824d264",
   "metadata": {},
   "outputs": [],
   "source": [
    "import json\n",
    "import pandas as pd \n",
    "# function to load the json aata\n",
    "def load_data(filename):\n",
    "    with open(filename, \"r\") as f:\n",
    "        data = json.load(f)\n",
    "    return data\n",
    "data = load_data(\"Students_data.json\")"
   ]
  },
  {
   "cell_type": "code",
   "execution_count": 11,
   "id": "b5cc5fd5-c8a0-4178-a6cd-a7bc9bcdd391",
   "metadata": {},
   "outputs": [
    {
     "name": "stdout",
     "output_type": "stream",
     "text": [
      "Data sucessfully written to Students_data_output.xlsx\n"
     ]
    }
   ],
   "source": [
    "# function to convert json data into excel sheet\n",
    "def convert_json_to_excel(json_file, excel_file):\n",
    "    # convert to data frame\n",
    "    data_frame = pd.DataFrame(data['students'])\n",
    "    data_frame.to_excel(excel_file, index = False)\n",
    "    print(f\"Data sucessfully written to {excel_file}\")\n",
    "convert_json_to_excel(\"Students_data.json\", \"Students_data_output.xlsx\")"
   ]
  },
  {
   "cell_type": "code",
   "execution_count": null,
   "id": "b840a97b-1b92-4753-8aed-cebc16a82574",
   "metadata": {},
   "outputs": [],
   "source": []
  }
 ],
 "metadata": {
  "kernelspec": {
   "display_name": "Python [conda env:base] *",
   "language": "python",
   "name": "conda-base-py"
  },
  "language_info": {
   "codemirror_mode": {
    "name": "ipython",
    "version": 3
   },
   "file_extension": ".py",
   "mimetype": "text/x-python",
   "name": "python",
   "nbconvert_exporter": "python",
   "pygments_lexer": "ipython3",
   "version": "3.12.7"
  }
 },
 "nbformat": 4,
 "nbformat_minor": 5
}
